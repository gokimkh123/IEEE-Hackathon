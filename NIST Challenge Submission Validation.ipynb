{
 "cells": [
  {
   "cell_type": "code",
   "id": "b46bc5d2",
   "metadata": {
    "ExecuteTime": {
     "end_time": "2025-08-16T13:46:48.796231Z",
     "start_time": "2025-08-16T13:46:48.794103Z"
    }
   },
   "source": [
    "import pickle\n",
    "import os\n",
    "import numpy as np\n"
   ],
   "outputs": [],
   "execution_count": 5
  },
  {
   "cell_type": "markdown",
   "id": "cc6b4bcf",
   "metadata": {},
   "source": [
    "# Define the path"
   ]
  },
  {
   "cell_type": "code",
   "id": "d365ca2b",
   "metadata": {
    "ExecuteTime": {
     "end_time": "2025-08-16T13:46:48.815500Z",
     "start_time": "2025-08-16T13:46:48.813417Z"
    }
   },
   "source": [
    "# Please set this base_path to where you store the submission files\n",
    "base_path = r\"C:\\Users\\geonhan\\Desktop\\IEEE Hackathon\\IEEE_CASE_Hackathon_Data\\task1\\outputs\""
   ],
   "outputs": [],
   "execution_count": 6
  },
  {
   "cell_type": "markdown",
   "id": "27393de4",
   "metadata": {},
   "source": [
    "# Task 1 submission validation"
   ]
  },
  {
   "cell_type": "code",
   "id": "5b7a466d",
   "metadata": {
    "ExecuteTime": {
     "end_time": "2025-08-16T13:46:48.923518Z",
     "start_time": "2025-08-16T13:46:48.828893Z"
    }
   },
   "source": [
    "# Initialize verification result\n",
    "structure_valid = True\n",
    "invalid_reasons = []\n",
    "\n",
    "# Load the prediction file\n",
    "pred_path = os.path.join(base_path, \"NIST_Task1.pkl\")\n",
    "with open(pred_path, 'rb') as f:\n",
    "    prediction_data = pickle.load(f)\n",
    "\n",
    "# Load and check type\n",
    "if os.path.exists(pred_path):\n",
    "    with open(pred_path, 'rb') as f:\n",
    "        prediction_data = pickle.load(f)\n",
    "    is_dict = isinstance(prediction_data, dict)\n",
    "else:\n",
    "    prediction_data = None\n",
    "    is_dict = False\n",
    "\n",
    "if is_dict is True:\n",
    "    # Check structure and label shapes\n",
    "    for part_key, layers in prediction_data.items():\n",
    "        if not isinstance(layers, list):\n",
    "            structure_valid = False\n",
    "            invalid_reasons.append(f\"{part_key} is not a list\")\n",
    "            continue\n",
    "\n",
    "        for layer in layers:\n",
    "            if not isinstance(layer, dict):\n",
    "                structure_valid = False\n",
    "                invalid_reasons.append(f\"Layer {layer} in {part_key} is not a dict\")\n",
    "                continue\n",
    "\n",
    "            if 'layer_id' not in layer or 'images' not in layer or 'spot_label' not in layer or 'streak_label' not in layer:\n",
    "                structure_valid = False\n",
    "                invalid_reasons.append(f\"Missing keys in layer {layer.get('layer_id', 'UNKNOWN')} of {part_key}\")\n",
    "                continue\n",
    "\n",
    "            spot_label = layer['spot_label']\n",
    "            streak_label = layer['streak_label']\n",
    "            if not (isinstance(spot_label, np.ndarray) and spot_label.shape == (139, 250)):\n",
    "                structure_valid = False\n",
    "                invalid_reasons.append(f\"spot_label shape invalid in layer {layer['layer_id']} of {part_key}\")\n",
    "            if not (isinstance(streak_label, np.ndarray) and streak_label.shape == (139, 250)):\n",
    "                structure_valid = False\n",
    "                invalid_reasons.append(f\"streak_label shape invalid in layer {layer['layer_id']} of {part_key}\")\n",
    "\n",
    "    if structure_valid:\n",
    "        print('NIST_Task1.pkl structure validated.')\n",
    "    else:\n",
    "        print('NIST_Task1.pkl structure invalid.')\n",
    "        print(invalid_reasons[:10])  # Only show first 10 reasons if there are many\n",
    "else:\n",
    "    print('This file is not a Python dictionary. Please follow the instruction and store your results in the same dictionary structure as the labeled training set.')"
   ],
   "outputs": [
    {
     "name": "stdout",
     "output_type": "stream",
     "text": [
      "NIST_Task1.pkl structure validated.\n"
     ]
    }
   ],
   "execution_count": 7
  },
  {
   "cell_type": "markdown",
   "id": "caee486e",
   "metadata": {},
   "source": [
    "# Task 2 submission validation"
   ]
  },
  {
   "cell_type": "code",
   "id": "1e6afc00",
   "metadata": {
    "ExecuteTime": {
     "end_time": "2025-08-16T13:46:48.946523Z",
     "start_time": "2025-08-16T13:46:48.934207Z"
    }
   },
   "source": [
    "# Define paths\n",
    "base_path = r\"C:\\Users\\geonhan\\Desktop\\IEEE Hackathon\\IEEE_CASE_Hackathon_Data\\task2\\submission\"",
    "\n",
    "\n",
    "# File names\n",
    "task2_files = {\n",
    "    \"a\": os.path.join(base_path, \"NIST_Task2_a.pkl\"),\n",
    "    \"b\": os.path.join(base_path, \"NIST_Task2_b.pkl\"),\n",
    "    \"c\": os.path.join(base_path, \"NIST_Task2_c.pkl\")\n",
    "}\n",
    "\n",
    "# Check each file\n",
    "results = {}\n",
    "expected_shape = (139, 250, 3)\n",
    "\n",
    "for lighting, file_path in task2_files.items():\n",
    "    try:\n",
    "        with open(file_path, \"rb\") as f:\n",
    "            data = pickle.load(f)\n",
    "            is_numpy = isinstance(data, np.ndarray)\n",
    "            shape_ok = data.shape[1:] == expected_shape if is_numpy else False\n",
    "            results[lighting] = {\n",
    "                \"is_numpy_array\": is_numpy,\n",
    "                \"shape\": data.shape if is_numpy else None,\n",
    "                \"correct_shape\": shape_ok\n",
    "            }\n",
    "    except FileNotFoundError:\n",
    "        results[lighting] = {\n",
    "            \"is_numpy_array\": False,\n",
    "            \"shape\": None,\n",
    "            \"correct_shape\": False,\n",
    "            \"error\": \"File not found\"\n",
    "        }\n",
    "    except Exception as e:\n",
    "        results[lighting] = {\n",
    "            \"is_numpy_array\": False,\n",
    "            \"shape\": None,\n",
    "            \"correct_shape\": False,\n",
    "            \"error\": str(e)\n",
    "        }\n",
    "\n",
    "if all([\n",
    "    results['a']['is_numpy_array'] and results['a']['correct_shape'],\n",
    "    results['b']['is_numpy_array'] and results['b']['correct_shape'],\n",
    "    results['c']['is_numpy_array'] and results['c']['correct_shape']\n",
    "]):\n",
    "    print(\"Submissions for Task 2 are validated ✅\")\n",
    "else:\n",
    "    print(\"❌ Validation failed for one or more submissions.\")\n",
    "    for key, info in results.items():\n",
    "        print(f\"Lighting {key.upper()}: is_numpy_array={info['is_numpy_array']}, shape={info['shape']}, correct_shape={info['correct_shape']}\")"
   ],
   "outputs": [
    {
     "name": "stdout",
     "output_type": "stream",
     "text": [
      "Submissions for Task 2 are validated ✅\n"
     ]
    }
   ],
   "execution_count": 8
  },
  {
   "cell_type": "code",
   "id": "6b0a1768",
   "metadata": {
    "ExecuteTime": {
     "end_time": "2025-08-16T13:46:48.958Z",
     "start_time": "2025-08-16T13:46:48.956832Z"
    }
   },
   "source": [],
   "outputs": [],
   "execution_count": null
  }
 ],
 "metadata": {
  "kernelspec": {
   "display_name": "Python 3 (ipykernel)",
   "language": "python",
   "name": "python3"
  },
  "language_info": {
   "codemirror_mode": {
    "name": "ipython",
    "version": 3
   },
   "file_extension": ".py",
   "mimetype": "text/x-python",
   "name": "python",
   "nbconvert_exporter": "python",
   "pygments_lexer": "ipython3",
   "version": "3.9.17"
  }
 },
 "nbformat": 4,
 "nbformat_minor": 5
}
